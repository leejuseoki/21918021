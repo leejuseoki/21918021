{
 "cells": [
  {
   "cell_type": "code",
   "execution_count": 78,
   "id": "834f0afb",
   "metadata": {
    "scrolled": true
   },
   "outputs": [
    {
     "ename": "TypeError",
     "evalue": "math.floor() takes exactly one argument (2 given)",
     "output_type": "error",
     "traceback": [
      "\u001b[1;31m---------------------------------------------------------------------------\u001b[0m",
      "\u001b[1;31mTypeError\u001b[0m                                 Traceback (most recent call last)",
      "\u001b[1;32m~\\AppData\\Local\\Temp\\ipykernel_11904\\2126050419.py\u001b[0m in \u001b[0;36m<module>\u001b[1;34m\u001b[0m\n\u001b[0;32m      1\u001b[0m \u001b[1;32mimport\u001b[0m \u001b[0mmath\u001b[0m\u001b[1;33m\u001b[0m\u001b[1;33m\u001b[0m\u001b[0m\n\u001b[1;32m----> 2\u001b[1;33m \u001b[0mprint\u001b[0m\u001b[1;33m(\u001b[0m\u001b[0mmath\u001b[0m\u001b[1;33m.\u001b[0m\u001b[0mfloor\u001b[0m\u001b[1;33m(\u001b[0m\u001b[1;36m3.14\u001b[0m\u001b[1;33m,\u001b[0m\u001b[1;33m-\u001b[0m\u001b[1;36m1\u001b[0m\u001b[1;33m)\u001b[0m\u001b[1;33m)\u001b[0m\u001b[1;33m\u001b[0m\u001b[1;33m\u001b[0m\u001b[0m\n\u001b[0m\u001b[0;32m      3\u001b[0m \u001b[0mprint\u001b[0m\u001b[1;33m(\u001b[0m\u001b[0mmath\u001b[0m\u001b[1;33m.\u001b[0m\u001b[0mtrunc\u001b[0m\u001b[1;33m(\u001b[0m\u001b[1;36m3.14\u001b[0m\u001b[1;33m)\u001b[0m\u001b[1;33m)\u001b[0m\u001b[1;33m\u001b[0m\u001b[1;33m\u001b[0m\u001b[0m\n\u001b[0;32m      4\u001b[0m \u001b[0mprint\u001b[0m\u001b[1;33m(\u001b[0m\u001b[0mmath\u001b[0m\u001b[1;33m.\u001b[0m\u001b[0mfloor\u001b[0m\u001b[1;33m(\u001b[0m\u001b[1;33m-\u001b[0m\u001b[1;36m3.14\u001b[0m\u001b[1;33m)\u001b[0m\u001b[1;33m)\u001b[0m\u001b[1;33m\u001b[0m\u001b[1;33m\u001b[0m\u001b[0m\n\u001b[0;32m      5\u001b[0m \u001b[0mprint\u001b[0m\u001b[1;33m(\u001b[0m\u001b[0mround\u001b[0m\u001b[1;33m(\u001b[0m\u001b[1;36m3.54\u001b[0m\u001b[1;33m)\u001b[0m\u001b[1;33m)\u001b[0m\u001b[1;33m\u001b[0m\u001b[1;33m\u001b[0m\u001b[0m\n",
      "\u001b[1;31mTypeError\u001b[0m: math.floor() takes exactly one argument (2 given)"
     ]
    }
   ],
   "source": [
    "import math\n",
    "print(math.floor(3.14))\n",
    "print(math.trunc(3.14))\n",
    "print(math.floor(-3.14))\n",
    "print(round(3.54))\n",
    "print(math.ceil(3.14))\n",
    "print(type(round(100002,-1)))\n",
    "print(type(round(100002.7,-1)))"
   ]
  },
  {
   "cell_type": "code",
   "execution_count": 70,
   "id": "56876354",
   "metadata": {},
   "outputs": [
    {
     "ename": "TypeError",
     "evalue": "math.trunc() takes exactly one argument (2 given)",
     "output_type": "error",
     "traceback": [
      "\u001b[1;31m---------------------------------------------------------------------------\u001b[0m",
      "\u001b[1;31mTypeError\u001b[0m                                 Traceback (most recent call last)",
      "\u001b[1;32m~\\AppData\\Local\\Temp\\ipykernel_11904\\398419178.py\u001b[0m in \u001b[0;36m<module>\u001b[1;34m\u001b[0m\n\u001b[0;32m      1\u001b[0m \u001b[1;32mimport\u001b[0m \u001b[0mmath\u001b[0m\u001b[1;33m\u001b[0m\u001b[1;33m\u001b[0m\u001b[0m\n\u001b[1;32m----> 2\u001b[1;33m \u001b[0mprint\u001b[0m\u001b[1;33m(\u001b[0m\u001b[0mmath\u001b[0m\u001b[1;33m.\u001b[0m\u001b[0mtrunc\u001b[0m\u001b[1;33m(\u001b[0m\u001b[1;36m1523\u001b[0m\u001b[1;33m,\u001b[0m\u001b[1;33m-\u001b[0m\u001b[1;36m1\u001b[0m\u001b[1;33m)\u001b[0m\u001b[1;33m)\u001b[0m\u001b[1;33m\u001b[0m\u001b[1;33m\u001b[0m\u001b[0m\n\u001b[0m",
      "\u001b[1;31mTypeError\u001b[0m: math.trunc() takes exactly one argument (2 given)"
     ]
    }
   ],
   "source": [
    "import math\n",
    "print(math.trunc(1523,-1))"
   ]
  },
  {
   "cell_type": "code",
   "execution_count": 4,
   "id": "29be337b",
   "metadata": {},
   "outputs": [
    {
     "name": "stdout",
     "output_type": "stream",
     "text": [
      "가장 큰 값은 : 30 이고 가장 작은 값은 -10 입니다.\n"
     ]
    }
   ],
   "source": [
    "a = 10\n",
    "b = -10\n",
    "c = 30\n",
    "\n",
    "a1 = max(a,b,c)\n",
    "a2 = min(a,b,c)\n",
    "\n",
    "print(\"가장 큰 값은 :\",a1,\"이고 가장 작은 값은\",a2,\"입니다.\")"
   ]
  },
  {
   "cell_type": "code",
   "execution_count": 6,
   "id": "520258d5",
   "metadata": {},
   "outputs": [
    {
     "name": "stdout",
     "output_type": "stream",
     "text": [
      "2.0\n"
     ]
    }
   ],
   "source": [
    "import math\n",
    "print(math.sqrt(4))"
   ]
  },
  {
   "cell_type": "markdown",
   "id": "4cdd11b8",
   "metadata": {},
   "source": [
    "# 등산 시간 계산\n",
    "### 어떤 사람이 산악 자전거로 등산을 계획하고 평지에서는 시속 20km/h가 가능하고 오르막 10km/h, 내리막 30km/h가 가능하다고 할 대 아래와 같은 경로를 자전거로 주행한다면 시간이 얼마나 걸릴까?"
   ]
  },
  {
   "cell_type": "code",
   "execution_count": 54,
   "id": "e11aab48",
   "metadata": {},
   "outputs": [
    {
     "name": "stdout",
     "output_type": "stream",
     "text": [
      "평지의 속도 : 20\n",
      "오르막의 속도 : 10\n",
      "내리막의 속도 : 30\n",
      "A구간은 30 분\n",
      "B구간은 30 분\n",
      "C구간은 10 분\n",
      "D구간은 24 분\n",
      "총 1 시간 34 분이 소요됩니다.\n"
     ]
    }
   ],
   "source": [
    "import math\n",
    "\n",
    "a = 10\n",
    "b = math.sqrt(3**2 + 4**2)\n",
    "c = math.sqrt(3**2 + 4**2)\n",
    "d = 8\n",
    "\n",
    "speedNormal = int(input(\"평지의 속도 : \"))\n",
    "speedUp = int(input(\"오르막의 속도 : \"))\n",
    "speedDown = int(input(\"내리막의 속도 : \"))\n",
    "\n",
    "timeA = int(round(a / speedNormal,2) * 60)\n",
    "timeB = int(round(b / speedUp,2) * 60)\n",
    "timeC = int(round(c / speedDown,2) * 60)\n",
    "timeD = int(round(d / speedNormal,2) * 60)\n",
    "\n",
    "\n",
    "print(\"A구간은\",timeA,\"분\")\n",
    "print(\"B구간은\",timeB,\"분\")\n",
    "print(\"C구간은\",timeC,\"분\")\n",
    "print(\"D구간은\",timeD,\"분\")\n",
    "\n",
    "total = timeA + timeB + timeC + timeD\n",
    "\n",
    "hour = total // 60\n",
    "minu = total - hour* 60\n",
    "\n",
    "print(\"총\",hour,\"시간\",minu,\"분이 소요됩니다.\")"
   ]
  },
  {
   "cell_type": "code",
   "execution_count": 2,
   "id": "7ae60aaa",
   "metadata": {},
   "outputs": [
    {
     "name": "stdout",
     "output_type": "stream",
     "text": [
      "평지의 속도 : 20\n",
      "오르막의 속도 : 10\n",
      "내리막의 속도 : 30\n",
      "A구간은 30 분\n",
      "B구간은 30 분\n",
      "C구간은 10 분\n",
      "D구간은 24 분\n",
      "총 1 시간 34 분이 소요됩니다.\n"
     ]
    }
   ],
   "source": [
    "import math\n",
    "\n",
    "a = 10\n",
    "b = math.sqrt(3**2 + 4**2)\n",
    "c = math.sqrt(3**2 + 4**2)\n",
    "d = 8\n",
    "\n",
    "speedNormal = int(input(\"평지의 속도 : \"))\n",
    "speedUp = int(input(\"오르막의 속도 : \"))\n",
    "speedDown = int(input(\"내리막의 속도 : \"))\n",
    "\n",
    "\n",
    "timeA = a / speedNormal * 60\n",
    "timeB = b / speedUp * 60\n",
    "timeC = c / speedDown * 60\n",
    "timeD = d / speedNormal * 60\n",
    "\n",
    "print(\"A구간은\",int(timeA),\"분\")\n",
    "print(\"B구간은\",int(timeB),\"분\")\n",
    "print(\"C구간은\",int(timeC),\"분\")\n",
    "print(\"D구간은\",int(timeD),\"분\")\n",
    "\n",
    "total = int(round(timeA + timeB + timeC + timeD,2))\n",
    "\n",
    "\n",
    "hour = total // 60\n",
    "minu = total - hour * 60\n",
    "\n",
    "print(\"총\",hour,\"시간\",minu,\"분이 소요됩니다.\")"
   ]
  },
  {
   "cell_type": "markdown",
   "id": "70677f44",
   "metadata": {},
   "source": [
    "# 구의 부피 구하기"
   ]
  },
  {
   "cell_type": "code",
   "execution_count": 10,
   "id": "cbffbe86",
   "metadata": {},
   "outputs": [
    {
     "name": "stdout",
     "output_type": "stream",
     "text": [
      "5\n",
      "원의 둘레 :  31.4 \n",
      "원의 넓이 :  78.5 \n",
      "구의 부피:  523.33\n"
     ]
    }
   ],
   "source": [
    "import math\n",
    "\n",
    "r = int(input())\n",
    "pi = 3.14\n",
    "ro = 2 * pi * r\n",
    "s = pi * r ** 2\n",
    "v = 4/3 * pi * r ** 3\n",
    "\n",
    "print(\"원의 둘레 : \",round(ro,2),\"\\n원의 넓이 : \",round(s,2),\"\\n구의 부피: \",round(v,2))"
   ]
  },
  {
   "cell_type": "markdown",
   "id": "d9cf2a59",
   "metadata": {},
   "source": [
    "# 지구에서 가장 가까운 별은 프록시마 켄타우리별이라고 한다. 프록시마 켄타우리는 지구로부터 40 x 10^12 떨어져 있다고 한다. 빛의 속도로 프록시마 켄타우리까지 간다면 얼마나 걸리는지 직접 계산(빛의 속도는 300000 km/sec)<br>광년 계산"
   ]
  },
  {
   "cell_type": "code",
   "execution_count": 34,
   "id": "c0a2b4bd",
   "metadata": {},
   "outputs": [
    {
     "name": "stdout",
     "output_type": "stream",
     "text": [
      "40000000000000\n",
      "총 1543.20987654321 일\n",
      "4 년  83 일 소요\n"
     ]
    }
   ],
   "source": [
    "distance = int(input())\n",
    "speed = 300000\n",
    "sec = distance/speed\n",
    "\n",
    "\n",
    "#print(lightYear)\n",
    "allDay = sec / (60*60*24)\n",
    "lightYear = allDay // 365\n",
    "lightDay = int(allDay % 365)\n",
    "\n",
    "print(\"총\",allDay,\"일\")\n",
    "print(int(lightYear),\"년 \",int(lightDay),\"일 소요\")\n"
   ]
  },
  {
   "cell_type": "markdown",
   "id": "3dc7c78b",
   "metadata": {},
   "source": [
    "# 자동판매기 프로그램\n",
    "## 1. 사용자는 1000원짜리 지폐와 500원짜리 동전, 100원짜리 동전을 사용할 수 있다.\n",
    "## 2. 물건 값을 입력하고 1000원권, 500원짜리 동전, 100원짜리 동전의 개수를 입력하면 거스름돈을 반환하는 프로그램"
   ]
  },
  {
   "cell_type": "code",
   "execution_count": 53,
   "id": "bb6264ec",
   "metadata": {},
   "outputs": [
    {
     "name": "stdout",
     "output_type": "stream",
     "text": [
      "10000\n",
      "거스름돈 4370 원\n",
      "1000원 :  4 장\n",
      "500원 :  0 개\n",
      "100원 :  3 개\n",
      "10원 :  7 개\n"
     ]
    }
   ],
   "source": [
    "myMoney = int(input())\n",
    "price = 5633\n",
    "myChange = round(myMoney - price,-1)\n",
    "\n",
    "change1000 = myChange // 1000\n",
    "change500 = myChange % 1000 // 500\n",
    "change100 = myChange % 500 // 100\n",
    "change10 = myChange % 100 // 10\n",
    "\n",
    "print(\"거스름돈\",myChange,\"원\")\n",
    "print(\"1000원 : \",change1000,\"장\")\n",
    "print(\"500원 : \",change500,\"개\")\n",
    "print(\"100원 : \",change100,\"개\")\n",
    "print(\"10원 : \",change10,\"개\")\n"
   ]
  },
  {
   "cell_type": "markdown",
   "id": "b17cf1ad",
   "metadata": {},
   "source": [
    "# 3. 내 지갑 만원 몇개? 천원 몇개? 500원 몇개? 100원 몇개? 물건값?"
   ]
  },
  {
   "cell_type": "code",
   "execution_count": 59,
   "id": "1d4e5832",
   "metadata": {},
   "outputs": [
    {
     "name": "stdout",
     "output_type": "stream",
     "text": [
      "내 지갑 10000원 몇개 ?1\n",
      "내 지갑 1000원 몇개 ?1\n",
      "내 지갑 500원 몇개 ?1\n",
      "내 지갑 100원 몇개 ?1\n",
      "물건값? 5633\n",
      "거스름돈 5970 원\n",
      "1000원 :  5 장\n",
      "500원 :  1 개\n",
      "100원 :  4 개\n",
      "10원 :  7 개\n"
     ]
    }
   ],
   "source": [
    "my10000 = int(input(\"내 지갑 10000원 몇개 ?\")) * 10000\n",
    "my1000 = int(input(\"내 지갑 1000원 몇개 ?\"))* 1000\n",
    "my500 = int(input(\"내 지갑 500원 몇개 ?\"))* 500\n",
    "my100 = int(input(\"내 지갑 100원 몇개 ?\"))* 100\n",
    "price = int(input(\"물건값? \"))\n",
    "\n",
    "myMoney = my10000 + my1000 + my500 + my100\n",
    "myChange = round(myMoney - price,-1)\n",
    "\n",
    "change1000 = myChange // 1000\n",
    "change500 = myChange % 1000 // 500\n",
    "change100 = myChange % 500 // 100\n",
    "change10 = myChange % 100 // 10\n",
    "\n",
    "print(\"거스름돈\",myChange,\"원\")\n",
    "print(\"1000원 : \",change1000,\"장\")\n",
    "print(\"500원 : \",change500,\"개\")\n",
    "print(\"100원 : \",change100,\"개\")\n",
    "print(\"10원 : \",change10,\"개\")"
   ]
  },
  {
   "cell_type": "code",
   "execution_count": 62,
   "id": "75dd2acc",
   "metadata": {},
   "outputs": [
    {
     "name": "stdout",
     "output_type": "stream",
     "text": [
      "10000\n",
      "물건값?5000\n",
      "거스름돈 5000 원\n",
      "10000원 :  0 장\n",
      "1000원 :  5 장\n",
      "500원 :  0 개\n",
      "100원 :  0 개\n"
     ]
    }
   ],
   "source": [
    "myMoney = int(input())\n",
    "price = int(input(\"물건값?\"))\n",
    "myChange = round(myMoney - price,-1)\n",
    "\n",
    "\n",
    "change10000 = price // 10000\n",
    "change1000 = price // 1000\n",
    "change500 = price % 1000 // 500\n",
    "change100 = price % 500 // 100\n",
    "\n",
    "\n",
    "\n",
    "print(\"거스름돈\",myChange,\"원\")\n",
    "print(\"10000원 : \",change10000,\"장\")\n",
    "print(\"1000원 : \",change1000,\"장\")\n",
    "print(\"500원 : \",change500,\"개\")\n",
    "print(\"100원 : \",change100,\"개\")\n"
   ]
  },
  {
   "cell_type": "code",
   "execution_count": 100,
   "id": "cf30dc11",
   "metadata": {},
   "outputs": [
    {
     "name": "stdout",
     "output_type": "stream",
     "text": [
      "물건값? 5633\n",
      "할인율(%)? 20\n",
      "4500\n",
      "자판기에 넣는돈 10000원 :  0 장\n",
      "자판기에 넣는돈 1000원 :  4 장\n",
      "자판기에 넣는돈 500원 :  1 개\n",
      "자판기에 넣는돈 100원 :  0 개\n",
      "자판기에 넣는돈 10원 :  0 개\n"
     ]
    }
   ],
   "source": [
    "import math\n",
    "price = int(input(\"물건값? \"))\n",
    "sale = int(input(\"할인율(%)? \"))\n",
    "price = price * (100-sale) / 100\n",
    "price = math.trunc(price / 10) * 10\n",
    "print(price)\n",
    "myChange = myMoney - price\n",
    "\n",
    "change10000 = price // 10000\n",
    "change1000 = price // 1000\n",
    "change500 = price % 1000 // 500\n",
    "change100 = price % 500 // 100\n",
    "change10 = price % 100 // 10\n",
    "\n",
    "print(\"자판기에 넣는돈 10000원 : \",change10000,\"장\")\n",
    "print(\"자판기에 넣는돈 1000원 : \",change1000,\"장\")\n",
    "print(\"자판기에 넣는돈 500원 : \",change500,\"개\")\n",
    "print(\"자판기에 넣는돈 100원 : \",change100,\"개\")\n",
    "print(\"자판기에 넣는돈 10원 : \",change10,\"개\")"
   ]
  },
  {
   "cell_type": "code",
   "execution_count": null,
   "id": "16972a1f",
   "metadata": {},
   "outputs": [],
   "source": []
  }
 ],
 "metadata": {
  "kernelspec": {
   "display_name": "Python 3 (ipykernel)",
   "language": "python",
   "name": "python3"
  },
  "language_info": {
   "codemirror_mode": {
    "name": "ipython",
    "version": 3
   },
   "file_extension": ".py",
   "mimetype": "text/x-python",
   "name": "python",
   "nbconvert_exporter": "python",
   "pygments_lexer": "ipython3",
   "version": "3.9.13"
  }
 },
 "nbformat": 4,
 "nbformat_minor": 5
}
